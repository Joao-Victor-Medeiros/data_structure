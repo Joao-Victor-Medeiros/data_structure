{
  "nbformat": 4,
  "nbformat_minor": 0,
  "metadata": {
    "colab": {
      "provenance": [],
      "authorship_tag": "ABX9TyPLFXBLdrEvcVPZrFuD3nCh",
      "include_colab_link": true
    },
    "kernelspec": {
      "name": "python3",
      "display_name": "Python 3"
    },
    "language_info": {
      "name": "python"
    }
  },
  "cells": [
    {
      "cell_type": "markdown",
      "metadata": {
        "id": "view-in-github",
        "colab_type": "text"
      },
      "source": [
        "<a href=\"https://colab.research.google.com/github/Joao-Victor-Medeiros/data_structure/blob/main/ordenacao_vetores_unidimenssionais.ipynb\" target=\"_parent\"><img src=\"https://colab.research.google.com/assets/colab-badge.svg\" alt=\"Open In Colab\"/></a>"
      ]
    },
    {
      "cell_type": "code",
      "execution_count": null,
      "metadata": {
        "id": "tW1yJ1IvC95L"
      },
      "outputs": [],
      "source": [
        "def bubble_sort(array):\n",
        "    n = len(array)\n",
        "    for i in range(n):\n",
        "        for j in range(n-i-1):\n",
        "            if array[j] > array[j+1]:\n",
        "                # Swap elements\n",
        "                array[j], array[j+1] = array[j+1], array[j]\n",
        "    return array"
      ]
    },
    {
      "cell_type": "code",
      "source": [
        "def merge_sort(array):\n",
        "    if len(array) > 1:\n",
        "        mid = len(array) // 2\n",
        "        left_half = array[:mid]\n",
        "        right_half = array[mid:]\n",
        "\n",
        "        merge_sort(left_half)\n",
        "        merge_sort(right_half)\n",
        "\n",
        "        i = 0\n",
        "        j = 0\n",
        "        k = 0\n",
        "\n",
        "        while i < len(left_half) and j < len(right_half):\n",
        "            if left_half[i] < right_half[j]:\n",
        "                array[k] = left_half[i]\n",
        "                i += 1\n",
        "            else:\n",
        "                array[k] = right_half[j]\n",
        "                j += 1\n",
        "            k += 1\n",
        "\n",
        "        while i < len(left_half):\n",
        "            array[k] = left_half[i]\n",
        "            i += 1\n",
        "            k += 1\n",
        "\n",
        "        while j < len(right_half):\n",
        "            array[k] = right_half[j]\n",
        "            j += 1\n",
        "            k += 1\n"
      ],
      "metadata": {
        "id": "w9ij4IN5EJmN"
      },
      "execution_count": null,
      "outputs": []
    },
    {
      "cell_type": "code",
      "source": [
        "def selection_sort(arr):\n",
        "    n = len(arr)\n",
        "    for i in range(n-1):\n",
        "        min_idx = i\n",
        "        for j in range(i+1, n):\n",
        "            if arr[j] < arr[min_idx]:\n",
        "                min_idx = j\n",
        "        arr[i], arr[min_idx] = arr[min_idx], arr[i]\n",
        "    return arr"
      ],
      "metadata": {
        "id": "455wE3VKEY9D"
      },
      "execution_count": null,
      "outputs": []
    },
    {
      "cell_type": "code",
      "source": [
        "def linear_search(arr, x):\n",
        "    for i in range(len(arr)):\n",
        "        if arr[i] == x:\n",
        "            return i\n",
        "    return -1\n"
      ],
      "metadata": {
        "id": "Z7n3Zt7BEoYJ"
      },
      "execution_count": null,
      "outputs": []
    }
  ]
}